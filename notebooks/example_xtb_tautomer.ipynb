{
 "cells": [
  {
   "cell_type": "code",
   "execution_count": null,
   "id": "congressional-monitoring",
   "metadata": {},
   "outputs": [],
   "source": [
    "# Example of pKa"
   ]
  },
  {
   "cell_type": "code",
   "execution_count": null,
   "id": "hydraulic-taste",
   "metadata": {},
   "outputs": [],
   "source": [
    "%load_ext autoreload\n",
    "%autoreload 2\n",
    "%matplotlib inline"
   ]
  },
  {
   "cell_type": "code",
   "execution_count": null,
   "id": "automated-roller",
   "metadata": {},
   "outputs": [],
   "source": [
    "import logging\n",
    "import sys"
   ]
  },
  {
   "cell_type": "code",
   "execution_count": null,
   "id": "consistent-spectacular",
   "metadata": {},
   "outputs": [],
   "source": [
    "import matplotlib.pyplot as plt"
   ]
  },
  {
   "cell_type": "code",
   "execution_count": null,
   "id": "different-level",
   "metadata": {},
   "outputs": [],
   "source": [
    "import pandas as pd\n",
    "import numpy as np\n",
    "from rdkit import Chem\n",
    "from rdkit.Chem.MolStandardize import rdMolStandardize\n",
    "from rdkit.Chem.Draw import MolsToGridImage"
   ]
  },
  {
   "cell_type": "code",
   "execution_count": null,
   "id": "viral-injection",
   "metadata": {},
   "outputs": [],
   "source": [
    "try:\n",
    "    import ppqm\n",
    "except ModuleNotFoundError:\n",
    "    import pathlib\n",
    "\n",
    "    cwd = pathlib.Path().resolve().parent\n",
    "    sys.path.append(str(cwd))\n",
    "    import ppqm"
   ]
  },
  {
   "cell_type": "markdown",
   "id": "optimum-bridge",
   "metadata": {},
   "source": [
    "## Set logging level"
   ]
  },
  {
   "cell_type": "code",
   "execution_count": null,
   "id": "verbal-bulgarian",
   "metadata": {},
   "outputs": [],
   "source": [
    "logging.basicConfig(stream=sys.stdout, level=logging.INFO)\n",
    "logging.getLogger(\"ppqm\").setLevel(logging.INFO)\n",
    "logging.getLogger(\"xtb\").setLevel(logging.INFO)\n",
    "show_progress = True"
   ]
  },
  {
   "cell_type": "markdown",
   "id": "original-portable",
   "metadata": {},
   "source": [
    "## Define a molecule you like"
   ]
  },
  {
   "cell_type": "code",
   "execution_count": null,
   "id": "floating-bangkok",
   "metadata": {},
   "outputs": [],
   "source": [
    "smiles = \"CCOC(=O)C1=C(C)N=C(C)/C(=C(\\O)OCC)C1C\"  # CHEMBL3189958\n",
    "molobj = Chem.MolFromSmiles(smiles)"
   ]
  },
  {
   "cell_type": "code",
   "execution_count": null,
   "id": "median-command",
   "metadata": {},
   "outputs": [],
   "source": [
    "molobj"
   ]
  },
  {
   "cell_type": "code",
   "execution_count": null,
   "id": "western-pillow",
   "metadata": {},
   "outputs": [],
   "source": []
  },
  {
   "cell_type": "markdown",
   "id": "divine-restoration",
   "metadata": {},
   "source": [
    "## Generate tautomers of the molecule\n",
    "\n",
    "Generate tautomer configuration based on RDKit enumeration\n",
    "\n",
    "Reference\n",
    " - http://rdkit.blogspot.com/2020/01/trying-out-new-tautomer.html\n"
   ]
  },
  {
   "cell_type": "code",
   "execution_count": null,
   "id": "valued-parker",
   "metadata": {},
   "outputs": [],
   "source": [
    "enumerator = rdMolStandardize.TautomerEnumerator()"
   ]
  },
  {
   "cell_type": "code",
   "execution_count": null,
   "id": "geographic-malawi",
   "metadata": {},
   "outputs": [],
   "source": [
    "tautomers = enumerator.Enumerate(molobj)\n",
    "tautomers = list(tautomers)"
   ]
  },
  {
   "cell_type": "code",
   "execution_count": null,
   "id": "challenging-saver",
   "metadata": {},
   "outputs": [],
   "source": [
    "MolsToGridImage(tautomers)"
   ]
  },
  {
   "cell_type": "markdown",
   "id": "resistant-breakdown",
   "metadata": {},
   "source": [
    "## Use xTB to select which tautomer is the most stable\n",
    "\n",
    "- Expand the configurations into 3D conformers\n",
    "- Calculate the relative energy in water\n",
    "- Optimize the molecule a bit (crude optimization critiera)\n",
    "\n",
    "\n",
    "Probably a single point (no optimization) would be enough. However, sometimes FF conformer generation can give unnatural high energies, and so we optimize to avoid that.\n",
    "\n",
    "\n",
    "Reference\n",
    "- https://xtb-docs.readthedocs.io/en/latest/optimization.html\n"
   ]
  },
  {
   "cell_type": "code",
   "execution_count": null,
   "id": "favorite-humanitarian",
   "metadata": {},
   "outputs": [],
   "source": [
    "xtb = ppqm.xtb.XtbCalculator(\n",
    "    scr=\"_tmp_directory_\", n_cores=2, cmd=\"xtb\", show_progress=show_progress\n",
    ")"
   ]
  },
  {
   "cell_type": "code",
   "execution_count": null,
   "id": "minus-railway",
   "metadata": {},
   "outputs": [],
   "source": [
    "xtb_options = {\n",
    "    \"gfn\": 2,\n",
    "    \"alpb\": \"water\",\n",
    "    \"opt\": \"crude\", \n",
    "}"
   ]
  },
  {
   "cell_type": "code",
   "execution_count": null,
   "id": "respected-merit",
   "metadata": {},
   "outputs": [],
   "source": [
    "# Generate conformers\n",
    "for i, molobj in enumerate(tautomers):\n",
    "    molobj = ppqm.tasks.generate_conformers(molobj, n_conformers=5)\n",
    "    tautomers[i] = molobj\n",
    "    \n",
    "    id(molobj)\n",
    "    \n",
    "    print(f\"Tautomer {i} has {molobj.GetNumConformers()} conformers\")"
   ]
  },
  {
   "cell_type": "code",
   "execution_count": null,
   "id": "civic-eagle",
   "metadata": {},
   "outputs": [],
   "source": [
    "%%time\n",
    "\n",
    "tautomer_energies = np.zeros(len(tautomers))\n",
    "\n",
    "for i, molobj in enumerate(tautomers):\n",
    "\n",
    "    results = xtb.calculate(molobj, xtb_options)\n",
    "    \n",
    "    energies = [result[\"scc_energy\"] for result in results]\n",
    "    \n",
    "    min_energy = np.min(energies)\n",
    "    min_energy *= ppqm.units.hartree_to_kcalmol\n",
    "    \n",
    "    tautomer_energies[i] = min_energy"
   ]
  },
  {
   "cell_type": "code",
   "execution_count": null,
   "id": "drawn-interval",
   "metadata": {},
   "outputs": [],
   "source": [
    "# We are only interested in relative energies\n",
    "tautomer_energies -= np.min(tautomer_energies)"
   ]
  },
  {
   "cell_type": "code",
   "execution_count": null,
   "id": "pregnant-powder",
   "metadata": {},
   "outputs": [],
   "source": [
    "tautomer_energies"
   ]
  },
  {
   "cell_type": "code",
   "execution_count": null,
   "id": "auburn-concert",
   "metadata": {},
   "outputs": [],
   "source": []
  },
  {
   "cell_type": "code",
   "execution_count": null,
   "id": "imported-principal",
   "metadata": {},
   "outputs": [],
   "source": [
    "_ = plt.plot(tautomer_energies, \"kx\")"
   ]
  },
  {
   "cell_type": "code",
   "execution_count": null,
   "id": "treated-butler",
   "metadata": {},
   "outputs": [],
   "source": [
    "print(f\"Best tautomer based on xTB energy is Tautomer #{np.argmin(tautomer_energies)}\")"
   ]
  },
  {
   "cell_type": "markdown",
   "id": "lonely-romantic",
   "metadata": {},
   "source": [
    "## Error in energy\n",
    "\n",
    "As we with anything fast, xTB energies comes with a cost. There is an error associated with the energy, and to an extent, also the sampled conformer space.  \n",
    "\n",
    "So let's limit how accurate we think the energy is and pick all the tautomers lower than that.\n"
   ]
  },
  {
   "cell_type": "code",
   "execution_count": null,
   "id": "reported-trademark",
   "metadata": {},
   "outputs": [],
   "source": [
    "energy_cutoff = 7.0  # kcal/mol"
   ]
  },
  {
   "cell_type": "code",
   "execution_count": null,
   "id": "authentic-implementation",
   "metadata": {},
   "outputs": [],
   "source": [
    "n_tautomers = len(tautomer_energies)\n",
    "_ = plt.plot(tautomer_energies, \"kx\")\n",
    "_ = plt.plot(range(n_tautomers), [energy_cutoff]*n_tautomers, \"r-\")"
   ]
  },
  {
   "cell_type": "code",
   "execution_count": null,
   "id": "divided-caution",
   "metadata": {},
   "outputs": [],
   "source": [
    "stable_indices, = np.where(tautomer_energies < energy_cutoff)\n",
    "stable_tautomers = [tautomers[i] for i in stable_indices]\n",
    "stable_tautomers = [ppqm.chembridge.copy_molobj(x) for x in stable_tautomers]\n",
    "stable_tautomers = [Chem.RemoveHs(x) for x in stable_tautomers]"
   ]
  },
  {
   "cell_type": "markdown",
   "id": "crazy-hudson",
   "metadata": {},
   "source": [
    "## Results\n",
    "\n",
    "So assuming that RDKit generates all relevant tautomers, and xTB energy is good to within a certain threshold, these are the tautomers that are abundant in water;\n"
   ]
  },
  {
   "cell_type": "code",
   "execution_count": null,
   "id": "unlimited-input",
   "metadata": {},
   "outputs": [],
   "source": [
    "MolsToGridImage(stable_tautomers)"
   ]
  },
  {
   "cell_type": "code",
   "execution_count": null,
   "id": "secret-martin",
   "metadata": {},
   "outputs": [],
   "source": []
  }
 ],
 "metadata": {
  "language_info": {
   "name": "python"
  }
 },
 "nbformat": 4,
 "nbformat_minor": 5
}
