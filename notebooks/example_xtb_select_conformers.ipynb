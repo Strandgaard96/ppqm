{
 "cells": [
  {
   "cell_type": "markdown",
   "id": "a57b3ca1-7451-4e09-9f31-2e733da5b9ab",
   "metadata": {},
   "source": [
    "# Example on using RDKit, clustering techniques and xTB to find relevant conformers\n",
    "\n",
    "Based on conformer selection by \n",
    "\n",
    "ReSCoSS, Anikó Udvarhelyi, Stephane Rodde, Rainer Wilcken, J. CAMD 2021, 10.1007/s10822-020-00337-7"
   ]
  },
  {
   "cell_type": "code",
   "execution_count": null,
   "id": "50cc1a0b-5b8c-4c3d-892b-a35f3a831d7d",
   "metadata": {},
   "outputs": [],
   "source": [
    "%load_ext autoreload\n",
    "%autoreload 2\n",
    "%matplotlib inline"
   ]
  },
  {
   "cell_type": "code",
   "execution_count": null,
   "id": "c38c95be-e44c-4ff8-98a8-5c384f2a3ee0",
   "metadata": {},
   "outputs": [],
   "source": [
    "import logging\n",
    "import sys"
   ]
  },
  {
   "cell_type": "code",
   "execution_count": null,
   "id": "82a95b70-9991-40a3-8535-65ee19f9f61c",
   "metadata": {},
   "outputs": [],
   "source": [
    "import numpy as np\n",
    "import pandas as pd\n",
    "from IPython.display import SVG"
   ]
  },
  {
   "cell_type": "code",
   "execution_count": null,
   "id": "3c1cc2f7-851a-4f20-a438-31bf3db9e6d9",
   "metadata": {},
   "outputs": [],
   "source": [
    "from rdkit import Chem\n",
    "from rdkit.Chem import rdDistGeom\n",
    "from rdkit.Chem import AllChem, PandasTools\n",
    "from rdkit.Chem.Draw import MolsToGridImage, MolToImage, rdMolDraw2D"
   ]
  },
  {
   "cell_type": "code",
   "execution_count": null,
   "id": "7a9ffe1b-b549-458a-ab1b-bd67c6aaec1d",
   "metadata": {},
   "outputs": [],
   "source": [
    "from sklearn.cluster import DBSCAN, KMeans\n",
    "from sklearn.ensemble import IsolationForest\n",
    "from sklearn.preprocessing import StandardScaler"
   ]
  },
  {
   "cell_type": "code",
   "execution_count": null,
   "id": "3eab8f0b-b963-4f3c-8e5f-85b95ba67855",
   "metadata": {},
   "outputs": [],
   "source": [
    "import collections\n",
    "import functools\n",
    "import logging\n",
    "import sys"
   ]
  },
  {
   "cell_type": "code",
   "execution_count": null,
   "id": "a4950090-04fa-452d-895b-1fb62c548357",
   "metadata": {},
   "outputs": [],
   "source": [
    "from matplotlib import pyplot as plt\n",
    "from matplotlib import patheffects"
   ]
  },
  {
   "cell_type": "code",
   "execution_count": null,
   "id": "11b18c2f-b789-4b50-87e3-24ab4e8e2149",
   "metadata": {},
   "outputs": [],
   "source": [
    "try:\n",
    "    import ppqm\n",
    "except ModuleNotFoundError:\n",
    "    import pathlib\n",
    "\n",
    "    cwd = pathlib.Path().resolve().parent\n",
    "    sys.path.append(str(cwd))\n",
    "    import ppqm"
   ]
  },
  {
   "cell_type": "code",
   "execution_count": null,
   "id": "510b0202-75d0-4d0a-9066-1fe108d00962",
   "metadata": {},
   "outputs": [],
   "source": [
    "from ppqm import chembridge\n",
    "from ppqm import jupyter as ppqm_jupyter"
   ]
  },
  {
   "cell_type": "code",
   "execution_count": null,
   "id": "f64c5671-22c1-43fb-9498-8ef80f4668f5",
   "metadata": {},
   "outputs": [],
   "source": [
    "import rmsd"
   ]
  },
  {
   "cell_type": "code",
   "execution_count": null,
   "id": "3f1f986a-b77f-404e-a573-47b4a2f5a53a",
   "metadata": {},
   "outputs": [],
   "source": [
    "# Set logging\n",
    "logging.basicConfig(stream=sys.stdout, level=logging.INFO)\n",
    "logging.getLogger(\"ppqm\").setLevel(logging.INFO)\n",
    "logging.getLogger(\"xtb\").setLevel(logging.INFO)"
   ]
  },
  {
   "cell_type": "code",
   "execution_count": null,
   "id": "c34708ff-f04f-4f85-8ee6-dc1b7c5a1e14",
   "metadata": {},
   "outputs": [],
   "source": [
    "_logger = logging.getLogger(__name__)"
   ]
  },
  {
   "cell_type": "code",
   "execution_count": null,
   "id": "cd483ad4-75b4-4a22-9359-7dec7cf5920a",
   "metadata": {},
   "outputs": [],
   "source": [
    "# Set DataFrames visuals\n",
    "PandasTools.RenderImagesInAllDataFrames(images=True)\n",
    "\n",
    "pd.options.display.max_rows = 60\n",
    "pd.options.display.max_columns = 60\n",
    "pd.options.display.float_format = '{:,.2f}'.format"
   ]
  },
  {
   "cell_type": "markdown",
   "id": "2fc0c72e-5d92-440d-bd1e-0a7ba3883d25",
   "metadata": {},
   "source": [
    "# Plot functions"
   ]
  },
  {
   "cell_type": "code",
   "execution_count": null,
   "id": "f730eafd-bdf9-42e4-86a7-03b02d643443",
   "metadata": {},
   "outputs": [],
   "source": [
    "def get_plot(n_ax=1):\n",
    "    \"\"\" Get a jupyter-sized plot \"\"\"\n",
    "    fig, axs = plt.subplots(1, n_ax, sharey=True, sharex=True, figsize=(12, n_ax * 12))\n",
    "    return fig, axs\n",
    "\n",
    "\n",
    "def view_cluster(ax, values, cluster_indices, outliers=None, markersize=6):\n",
    "    \"\"\" View clusters of points \"\"\"\n",
    "\n",
    "    n_clusters = len(cluster_indices)\n",
    "    colors = [plt.cm.Spectral(each) for each in np.linspace(0, 1, n_clusters)]\n",
    "    # colors = [plt.cm.rainbow(each) for each in np.linspace(0, 1, n_clusters)]\n",
    "\n",
    "    for idxs, color in zip(cluster_indices, colors):\n",
    "\n",
    "        marker_options = {\n",
    "            \"markerfacecolor\": tuple(color),\n",
    "            \"markeredgecolor\": \"k\",\n",
    "            \"markersize\": markersize,\n",
    "        }\n",
    "\n",
    "        x = values[0, idxs]\n",
    "        y = values[1, idxs]\n",
    "        ax.plot(x, y, \"o\", **marker_options)\n",
    "\n",
    "    if outliers is not None:\n",
    "\n",
    "        outlier_color = [1, 1, 1, 1]\n",
    "        marker_options = {\n",
    "            \"markerfacecolor\": tuple(outlier_color),\n",
    "            \"markeredgecolor\": \"k\",\n",
    "            \"markersize\": markersize,\n",
    "        }\n",
    "\n",
    "        x = values[0, outliers]\n",
    "        y = values[1, outliers]\n",
    "        ax.plot(x, y, \"o\", **marker_options)\n",
    "\n",
    "\n",
    "def hexbin(ax, xvalues, yvalues, density=25, mincount=2, colormap=\"PuRd\", bins=\"log\"):  # 'Greys'\n",
    "    \"\"\" Wrapper for MPL hexbin func with sane defaults \"\"\"\n",
    "\n",
    "    # Settings\n",
    "    lineswidth = 0.0  # white lines\n",
    "    lineswidth = 0.2  # perfect fit\n",
    "    lineswidth = 0.3  # fit for pngs\n",
    "    lineswidth = 0.4  # fit for pngs\n",
    "\n",
    "    hexbinpar = {\n",
    "        \"gridsize\": density,\n",
    "        \"cmap\": colormap,\n",
    "        \"linewidths\": lineswidth,\n",
    "        \"mincnt\": 1,\n",
    "        \"bins\": bins,\n",
    "    }\n",
    "\n",
    "    _ = ax.hexbin(xvalues, yvalues, **hexbinpar)\n",
    "\n",
    "    return\n",
    "\n",
    "\n",
    "def fix_borders(ax, visibles=[False, False, True, True], fix_bounds=True):\n",
    "    \"\"\" Make border pretty \"\"\"\n",
    "\n",
    "    directions = [\"top\", \"right\", \"bottom\", \"left\"]\n",
    "\n",
    "    spines = ax.spines.items()\n",
    "    spines = dict(spines)\n",
    "\n",
    "    xticks = ax.get_xticks()\n",
    "    yticks = ax.get_yticks()\n",
    "    min_x, max_x = ax.get_xlim()\n",
    "    min_y, max_y = ax.get_ylim()\n",
    "\n",
    "    # Correct to the actual ticks\n",
    "    (x_idxs,) = np.where((xticks > min_x) & (xticks < max_x))\n",
    "    (y_idxs,) = np.where((yticks > min_y) & (yticks < max_y))\n",
    "    xticks = xticks[x_idxs]\n",
    "    yticks = yticks[y_idxs]\n",
    "\n",
    "    min_x = np.min(xticks)\n",
    "    max_x = np.max(xticks)\n",
    "\n",
    "    min_y = np.min(yticks)\n",
    "    max_y = np.max(yticks)\n",
    "\n",
    "    # TODO Better ax.set_xlim()\n",
    "\n",
    "    for direction, visible in zip(directions, visibles):\n",
    "\n",
    "        spine = spines[direction]\n",
    "        spine.set_visible(visible)\n",
    "\n",
    "        if not visible:\n",
    "            continue\n",
    "\n",
    "        if not fix_bounds:\n",
    "            continue\n",
    "\n",
    "        if direction == \"left\" or direction == \"right\":\n",
    "            spine.set_bounds(min_y, max_y)\n",
    "\n",
    "        else:\n",
    "            spine.set_bounds(min_x, max_x)"
   ]
  },
  {
   "cell_type": "markdown",
   "id": "ea550802-7f18-417d-9d1c-fc87d7510936",
   "metadata": {},
   "source": [
    "## Define a Molecule"
   ]
  },
  {
   "cell_type": "code",
   "execution_count": null,
   "id": "9b890ee5-6ac5-42d7-be8e-9cd57e985e65",
   "metadata": {},
   "outputs": [],
   "source": [
    "smiles = \"Cc1cc(NCCO)nc(-c2ccc(Br)cc2)n1\"  # CHEMBL1956589\n",
    "smiles = \"CCCCOc1nc(N)c2nc(SCC(=O)O)n(Cc3ccccc3)c2n1\"  # CHEMBL4598383\n",
    "smiles = \"Cc1ccc(-c2ncccn2)c(C(=O)N2CC(COc3ccc(F)cn3)CCC2C)c1\""
   ]
  },
  {
   "cell_type": "code",
   "execution_count": null,
   "id": "4c9186cb-f2e0-48b7-a0c3-11d1097e2044",
   "metadata": {},
   "outputs": [],
   "source": [
    "molobj = Chem.MolFromSmiles(smiles)"
   ]
  },
  {
   "cell_type": "code",
   "execution_count": null,
   "id": "217a512f-5e03-439a-9021-23192b919114",
   "metadata": {},
   "outputs": [],
   "source": [
    "molobj"
   ]
  },
  {
   "cell_type": "markdown",
   "id": "52467e74-895b-4ee6-aac0-92557aec43c0",
   "metadata": {},
   "source": [
    "# Generate a lot of conformers\n",
    "\n",
    "Generate as many conformers as possible. Use your favorite program. We pretend that all conformers are covered by this. \n",
    "\n",
    "In this example we use RDKit ETKDGv3 to generate conformers\n"
   ]
  },
  {
   "cell_type": "code",
   "execution_count": null,
   "id": "d412e35d-043d-4f19-a191-ec098bbe3d58",
   "metadata": {},
   "outputs": [],
   "source": [
    "%%time\n",
    "\n",
    "n_conformers = 1_000\n",
    "molobj_3d = Chem.Mol(molobj, True)\n",
    "molobj_3d = Chem.AddHs(molobj_3d)\n",
    "embed_parameters = rdDistGeom.ETKDGv3()\n",
    "rdDistGeom.EmbedMultipleConfs(molobj_3d, n_conformers, embed_parameters)\n",
    "\n",
    "pass"
   ]
  },
  {
   "cell_type": "code",
   "execution_count": null,
   "id": "787cc8de-1971-4dd8-9039-48d18edd58c0",
   "metadata": {},
   "outputs": [],
   "source": [
    "molobj_3d.GetNumConformers()"
   ]
  },
  {
   "cell_type": "code",
   "execution_count": null,
   "id": "e8748bc4-3e1e-4d27-8d03-6d552a7096b0",
   "metadata": {},
   "outputs": [],
   "source": [
    "ppqm_jupyter.show_molobj(molobj_3d)"
   ]
  },
  {
   "cell_type": "markdown",
   "id": "2d837f87-3f08-4aa0-8f9f-d9a870b1c76e",
   "metadata": {},
   "source": [
    "# Look at the shape distribution \n",
    "\n",
    "\n",
    "There are *MANY* ways to look at the shape of a molecule. ResCoSS looks at a list of properties calculates by cosmotherm, including hydrogen-doner/acceptor.\n",
    "\n",
    "For speed-reasons, we select two of the properties\n",
    "\n",
    "- Solvent acessible Surface Area (SASA)\n",
    "- Dipole moment\n",
    "\n",
    "and calculate them by RDKit\n",
    "\n",
    "    rdFreeSASA.CalcSASA(molobj, radii, confIdx=i)\n",
    "    AllChem.ComputeGasteigerCharges(molobj)\n",
    "\n",
    "which is rough estimates of QM properties, however good enough to describe if two conformers are shapely similar.\n"
   ]
  },
  {
   "cell_type": "code",
   "execution_count": null,
   "id": "7d103747-d5e0-4d81-bf00-140fa569f4e4",
   "metadata": {},
   "outputs": [],
   "source": [
    "def calculate_shape(mol):\n",
    "    \"\"\" return (2, n_conformer) array with SASA and Dipole moments \"\"\"\n",
    "    \n",
    "    # Get surface accessible solvent area\n",
    "    sasas = ppqm.chembridge.get_sasa(mol, extra_radius=1.0)\n",
    "\n",
    "    # Dipole moments\n",
    "    dipole_moments = ppqm.chembridge.get_dipole_moments(mol)\n",
    "\n",
    "    # Package in one numpy array\n",
    "    values = [sasas, dipole_moments]\n",
    "    values = np.asarray(values, dtype=np.float64)\n",
    "    \n",
    "    return values"
   ]
  },
  {
   "cell_type": "code",
   "execution_count": null,
   "id": "c791a805-7ceb-49bf-92f6-1467cdaf93a4",
   "metadata": {},
   "outputs": [],
   "source": [
    "%%time\n",
    "conformer_shapes = calculate_shape(molobj_3d)"
   ]
  },
  {
   "cell_type": "code",
   "execution_count": null,
   "id": "b7324283-699c-4953-beb3-29c893194a6c",
   "metadata": {},
   "outputs": [],
   "source": [
    "fig, axs = get_plot()\n",
    "axs.plot(*conformer_shapes, \"ko\", ms=5)\n",
    "axs.set_xlabel(\"SASA\")\n",
    "axs.set_ylabel(\"Dipole\")\n",
    "\n",
    "#for idx, (x, y) in enumerate(zip(*conformer_shapes)):\n",
    "#    txt = plt.text(x, y, idx, fontsize=14)\n",
    "#    txt.set_path_effects([patheffects.withStroke(linewidth=3, foreground=\"w\")])\n",
    "\n",
    "fix_borders(axs)"
   ]
  },
  {
   "cell_type": "markdown",
   "id": "4c89dcd0-6038-4b57-8026-174c7def6061",
   "metadata": {},
   "source": [
    "# Optimize all conformers"
   ]
  },
  {
   "cell_type": "code",
   "execution_count": null,
   "id": "0a9b85f5-ed42-40d0-98fe-87ff9a57b499",
   "metadata": {},
   "outputs": [],
   "source": [
    "def optimize_axyzc(\n",
    "    atoms,\n",
    "    coordinates,\n",
    "    charge,\n",
    "    calculation_options={},\n",
    "    xtb_options={}\n",
    ") -> np.array:\n",
    "    \"\"\"\n",
    "    Optimize conformer with fast quantum chemistry\n",
    "\n",
    "    - optimize with XTB2\n",
    "    - if not_converged\n",
    "      restart with XTB0 with n_steps\n",
    "      optimize with XTB2\n",
    "    - if not_converged\n",
    "      optimize with cartisian coordinates\n",
    "    - if not_converged\n",
    "      return None\n",
    "\n",
    "    :return coordiantes: Nx3 Array of coordiantes\n",
    "    \"\"\"\n",
    "\n",
    "    assert isinstance(atoms[0], str), \"func requires atoms in string format\"\n",
    "\n",
    "    options_default = {\n",
    "        \"opt\": None,\n",
    "        \"cycles\": 100,\n",
    "    }\n",
    "    options_default = dict(collections.ChainMap(options_default, calculation_options))\n",
    "\n",
    "    options_fast = {\n",
    "        \"gfn\": 0,\n",
    "        \"opt\": None,\n",
    "        \"cycles\": 200,\n",
    "    }\n",
    "    options_fast = dict(collections.ChainMap(options_fast, calculation_options))\n",
    "\n",
    "    options_lax = {\n",
    "        \"opt\": \"lax\",\n",
    "    }\n",
    "    options_fast = dict(collections.ChainMap(options_lax, calculation_options))\n",
    "\n",
    "    # Start calculating with the defined options\n",
    "\n",
    "    properties = ppqm.xtb.get_properties_from_axyzc(\n",
    "        atoms, coordinates, charge, options=options_default, **xtb_options\n",
    "    )\n",
    "\n",
    "    if properties and properties[ppqm.xtb.COLUMN_CONVERGED]:\n",
    "        return properties[ppqm.xtb.COLUMN_COORD], properties[ppqm.xtb.COLUMN_ENERGY]\n",
    "\n",
    "    properties = ppqm.xtb.get_properties_from_axyzc(\n",
    "        atoms, coordinates, charge, options=options_fast, **xtb_options\n",
    "    )\n",
    "\n",
    "    if not properties or ppqm.xtb.COLUMN_COORD not in properties:\n",
    "        return None, None\n",
    "\n",
    "    fast_coordinates = properties[ppqm.xtb.COLUMN_COORD]\n",
    "\n",
    "    properties = ppqm.xtb.get_properties_from_axyzc(\n",
    "        atoms, fast_coordinates, charge, options_default, **xtb_options\n",
    "    )\n",
    "\n",
    "    if properties and properties[ppqm.xtb.COLUMN_CONVERGED]:\n",
    "        return properties[ppqm.xtb.COLUMN_COORD], properties[ppqm.xtb.COLUMN_ENERGY]\n",
    "\n",
    "    if properties[ppqm.xtb.COLUMN_COORD] is None:\n",
    "        return None, None\n",
    "\n",
    "    fast_coordinates = properties[ppqm.xtb.COLUMN_COORD]\n",
    "\n",
    "    properties = ppqm.xtb.get_properties_from_axyzc(\n",
    "        atoms, fast_coordinates, charge, options=options_lax, **xtb_options\n",
    "    )\n",
    "\n",
    "    if not properties or properties[ppqm.xtb.COLUMN_COORD] is None:\n",
    "        return None, None\n",
    "\n",
    "    return properties[ppqm.xtb.COLUMN_COORD], properties[ppqm.xtb.COLUMN_ENERGY]"
   ]
  },
  {
   "cell_type": "code",
   "execution_count": null,
   "id": "5638458c-4928-4423-b85a-57651b7d2081",
   "metadata": {},
   "outputs": [],
   "source": [
    "def optimize_acxyz(atoms, charge, coordinates, **kwargs):\n",
    "    \"\"\" Meta function for parallel func mapping \"\"\"\n",
    "    return optimize_axyzc(atoms, coordinates, charge, **kwargs)"
   ]
  },
  {
   "cell_type": "code",
   "execution_count": null,
   "id": "b79537be-3258-4e16-b8e0-2169849e5877",
   "metadata": {},
   "outputs": [],
   "source": [
    "def optimize_molobj(\n",
    "    molobj,\n",
    "    show_progress=True,\n",
    "    n_cores=1,\n",
    "    scr=None,\n",
    "    calculation_options={},\n",
    "    xtb_options={},\n",
    "    rmsd_threshold=3.0,\n",
    "):\n",
    "    \"\"\"\n",
    "    Optimize all the conformers in molobj.\n",
    "\n",
    "    :param rmsd_threshold: Check if molcule moved away from local minima.\n",
    "    \"\"\"\n",
    "    n_atoms = molobj.GetNumAtoms()\n",
    "    molobj_prime = chembridge.copy_molobj(molobj)\n",
    "    energies = []\n",
    "\n",
    "    atoms, _, charge = chembridge.get_axyzc(molobj, atomfmt=str)\n",
    "\n",
    "    n_conformers = molobj.GetNumConformers()\n",
    "    coordinates_list = [\n",
    "        np.asarray(conformer.GetPositions()) for conformer in molobj.GetConformers()\n",
    "    ]\n",
    "\n",
    "    n_procs = min(n_cores, n_conformers)\n",
    "    results = []\n",
    "\n",
    "    if \"n_cores\" in xtb_options:\n",
    "        del xtb_options[\"n_cores\"]\n",
    "\n",
    "    if scr:\n",
    "        xtb_options[\"scr\"] = scr\n",
    "\n",
    "    func = functools.partial(\n",
    "        optimize_acxyz,\n",
    "        atoms,\n",
    "        charge,\n",
    "        calculation_options=calculation_options,\n",
    "        xtb_options=xtb_options,\n",
    "    )\n",
    "\n",
    "    results = ppqm.misc.func_parallel(\n",
    "        func,\n",
    "        coordinates_list,\n",
    "        n_cores=n_procs,\n",
    "        show_progress=show_progress,\n",
    "        title=\"Optimize\",\n",
    "    )\n",
    "\n",
    "    for idx, (coord, energy) in enumerate(results):\n",
    "\n",
    "        # if conformer is unconverged, ignore\n",
    "        if coord is None or energy is None:\n",
    "            _logger.warning(f\"conformer {idx} unconverged\")\n",
    "            continue\n",
    "\n",
    "        # if conformer has changed a lot, warn\n",
    "        original = chembridge.get_coordinates(molobj, confid=idx)\n",
    "        displacement = rmsd.kabsch_rmsd(coord, original)\n",
    "        if displacement > rmsd_threshold:\n",
    "            _logger.warning(f\"conformer {idx} has large displacement\")\n",
    "\n",
    "        # Molecule is converged, add to new molobj\n",
    "        conformer = Chem.Conformer(n_atoms)\n",
    "        chembridge.conformer_set_coordinates(conformer, coord)\n",
    "        molobj_prime.AddConformer(conformer, assignId=True)\n",
    "        energies.append(energy)\n",
    "\n",
    "    energies = np.asarray(energies)\n",
    "\n",
    "    return molobj_prime, energies"
   ]
  },
  {
   "cell_type": "code",
   "execution_count": null,
   "id": "5e208a2f-4a36-4161-a37e-e206a8e9b2ae",
   "metadata": {},
   "outputs": [],
   "source": [
    "%%time\n",
    "molobj_3d_xtb, energies = optimize_molobj(molobj_3d, n_cores=4)"
   ]
  },
  {
   "cell_type": "code",
   "execution_count": null,
   "id": "ec1c8bbc-c594-40c2-a425-eb4a67141ec6",
   "metadata": {},
   "outputs": [],
   "source": [
    "%%time\n",
    "conformer_shapes = calculate_shape(molobj_3d_xtb)"
   ]
  },
  {
   "cell_type": "code",
   "execution_count": null,
   "id": "4fbce1d1-880e-40cb-bbec-36d47a605708",
   "metadata": {},
   "outputs": [],
   "source": [
    "fig, axs = get_plot()\n",
    "axs.plot(*conformer_shapes, \"ko\", ms=5)\n",
    "axs.set_xlabel(\"SASA\")\n",
    "axs.set_ylabel(\"Dipole\")\n",
    "fix_borders(axs)"
   ]
  },
  {
   "cell_type": "code",
   "execution_count": null,
   "id": "afca46d2-19e4-49c8-910c-cff2f23a6af0",
   "metadata": {},
   "outputs": [],
   "source": [
    "# Filter a lot of conformers to unique"
   ]
  },
  {
   "cell_type": "code",
   "execution_count": null,
   "id": "70ff2c35-4202-45f2-9c79-ac5424e14b42",
   "metadata": {},
   "outputs": [],
   "source": [
    "def find_conformer_groups(shape_array):\n",
    "    \n",
    "    # Transform to row-based descriptions\n",
    "    values = values.T\n",
    "\n",
    "    if values.shape[0] == 0:\n",
    "        return []\n",
    "    \n",
    "    # Normalize the shape descriptors\n",
    "    values = StandardScaler().fit_transform(values)\n",
    "    \n",
    "    # Find outliers\n",
    "    \n",
    "    \n",
    "    \n",
    "    return"
   ]
  },
  {
   "cell_type": "code",
   "execution_count": null,
   "id": "ef6a2208-1556-47c2-86fb-e023a36624f9",
   "metadata": {},
   "outputs": [],
   "source": [
    "# explain traits"
   ]
  },
  {
   "cell_type": "code",
   "execution_count": null,
   "id": "e1488f2a-f03b-4912-9bcf-c72836d61305",
   "metadata": {},
   "outputs": [],
   "source": [
    "# selecting clustering algorithm"
   ]
  },
  {
   "cell_type": "code",
   "execution_count": null,
   "id": "f52858dc-18a0-4f55-882f-5de562b0b485",
   "metadata": {},
   "outputs": [],
   "source": [
    "# Optimize conformers"
   ]
  },
  {
   "cell_type": "code",
   "execution_count": null,
   "id": "ca0ed399-27ec-4042-9730-d5c1ce4c6219",
   "metadata": {},
   "outputs": [],
   "source": [
    "# Watch the changes to conformer shape space\n",
    "# - quiver map"
   ]
  },
  {
   "cell_type": "code",
   "execution_count": null,
   "id": "cf525bd8-d0cb-413f-96d8-1b0bf01c12c8",
   "metadata": {},
   "outputs": [],
   "source": [
    "# "
   ]
  },
  {
   "cell_type": "code",
   "execution_count": null,
   "id": "6062a9e2-a627-4b9f-bcf8-a847867170d2",
   "metadata": {},
   "outputs": [],
   "source": []
  },
  {
   "cell_type": "code",
   "execution_count": null,
   "id": "214eee1e-f6d1-48e3-84b9-9398b6c50c1f",
   "metadata": {},
   "outputs": [],
   "source": []
  },
  {
   "cell_type": "code",
   "execution_count": null,
   "id": "48e97542-53d9-4401-a228-cf120fca1daf",
   "metadata": {},
   "outputs": [],
   "source": []
  },
  {
   "cell_type": "code",
   "execution_count": null,
   "id": "04d36d77-b0e3-42ce-b073-bac562faca73",
   "metadata": {},
   "outputs": [],
   "source": []
  },
  {
   "cell_type": "code",
   "execution_count": null,
   "id": "ff57c8eb-c794-4666-973d-b2f24bde6067",
   "metadata": {},
   "outputs": [],
   "source": []
  },
  {
   "cell_type": "code",
   "execution_count": null,
   "id": "dbd8bf22-d2fa-4cc8-93d4-8134294b99c2",
   "metadata": {},
   "outputs": [],
   "source": []
  }
 ],
 "metadata": {
  "language_info": {
   "name": "python"
  }
 },
 "nbformat": 4,
 "nbformat_minor": 5
}
