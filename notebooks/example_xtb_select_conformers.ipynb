{
 "cells": [
  {
   "cell_type": "markdown",
   "id": "a57b3ca1-7451-4e09-9f31-2e733da5b9ab",
   "metadata": {},
   "source": [
    "# Example on using RDKit, clustering techniques and xTB to find relevant conformers\n",
    "\n",
    "TODO Cite Rescoss\n"
   ]
  },
  {
   "cell_type": "code",
   "execution_count": null,
   "id": "50cc1a0b-5b8c-4c3d-892b-a35f3a831d7d",
   "metadata": {},
   "outputs": [],
   "source": [
    "%load_ext autoreload\n",
    "%autoreload 2\n",
    "%matplotlib inline"
   ]
  },
  {
   "cell_type": "code",
   "execution_count": null,
   "id": "c38c95be-e44c-4ff8-98a8-5c384f2a3ee0",
   "metadata": {},
   "outputs": [],
   "source": [
    "import logging\n",
    "import sys"
   ]
  },
  {
   "cell_type": "code",
   "execution_count": null,
   "id": "51f7819b-0fa4-4af1-8ccc-ad374e15155d",
   "metadata": {},
   "outputs": [],
   "source": [
    "import numpy as np\n",
    "import pandas as pd\n",
    "from IPython.display import SVG\n",
    "from rdkit import Chem\n",
    "from rdkit.Chem import AllChem, PandasTools\n",
    "from rdkit.Chem.Draw import MolsToGridImage, MolToImage, rdMolDraw2D"
   ]
  },
  {
   "cell_type": "code",
   "execution_count": null,
   "id": "11b18c2f-b789-4b50-87e3-24ab4e8e2149",
   "metadata": {},
   "outputs": [],
   "source": [
    "try:\n",
    "    import ppqm\n",
    "except ModuleNotFoundError:\n",
    "    import pathlib\n",
    "\n",
    "    cwd = pathlib.Path().resolve().parent\n",
    "    sys.path.append(str(cwd))\n",
    "    import ppqm"
   ]
  },
  {
   "cell_type": "code",
   "execution_count": null,
   "id": "3f1f986a-b77f-404e-a573-47b4a2f5a53a",
   "metadata": {},
   "outputs": [],
   "source": [
    "# Set logging\n",
    "logging.basicConfig(stream=sys.stdout, level=logging.INFO)\n",
    "logging.getLogger(\"ppqm\").setLevel(logging.INFO)\n",
    "logging.getLogger(\"xtb\").setLevel(logging.INFO)"
   ]
  },
  {
   "cell_type": "code",
   "execution_count": null,
   "id": "cd483ad4-75b4-4a22-9359-7dec7cf5920a",
   "metadata": {},
   "outputs": [],
   "source": [
    "# Set DataFrames visuals\n",
    "PandasTools.RenderImagesInAllDataFrames(images=True)\n",
    "pd.set_option('display.float_format','{:.2f}'.format)"
   ]
  },
  {
   "cell_type": "markdown",
   "id": "ea550802-7f18-417d-9d1c-fc87d7510936",
   "metadata": {},
   "source": [
    "## Define a Molecule"
   ]
  },
  {
   "cell_type": "code",
   "execution_count": null,
   "id": "9b890ee5-6ac5-42d7-be8e-9cd57e985e65",
   "metadata": {},
   "outputs": [],
   "source": [
    "smiles = \"Cc1cc(NCCO)nc(-c2ccc(Br)cc2)n1\"  # CHEMBL1956589"
   ]
  },
  {
   "cell_type": "code",
   "execution_count": null,
   "id": "4c9186cb-f2e0-48b7-a0c3-11d1097e2044",
   "metadata": {},
   "outputs": [],
   "source": [
    "molobj = Chem.MolFromSmiles(smiles)"
   ]
  },
  {
   "cell_type": "code",
   "execution_count": null,
   "id": "217a512f-5e03-439a-9021-23192b919114",
   "metadata": {},
   "outputs": [],
   "source": [
    "molobj"
   ]
  },
  {
   "cell_type": "code",
   "execution_count": null,
   "id": "73f8e433-265a-44d0-9663-205721dc24ff",
   "metadata": {},
   "outputs": [],
   "source": [
    "# Generate a lot of conformers"
   ]
  },
  {
   "cell_type": "code",
   "execution_count": null,
   "id": "d412e35d-043d-4f19-a191-ec098bbe3d58",
   "metadata": {},
   "outputs": [],
   "source": [
    "# using rdkit"
   ]
  },
  {
   "cell_type": "code",
   "execution_count": null,
   "id": "afca46d2-19e4-49c8-910c-cff2f23a6af0",
   "metadata": {},
   "outputs": [],
   "source": [
    "# Filter a lot of conformers to unique"
   ]
  },
  {
   "cell_type": "code",
   "execution_count": null,
   "id": "ef6a2208-1556-47c2-86fb-e023a36624f9",
   "metadata": {},
   "outputs": [],
   "source": [
    "# explain traits"
   ]
  },
  {
   "cell_type": "code",
   "execution_count": null,
   "id": "e1488f2a-f03b-4912-9bcf-c72836d61305",
   "metadata": {},
   "outputs": [],
   "source": [
    "# selecting clustering algorithm"
   ]
  },
  {
   "cell_type": "code",
   "execution_count": null,
   "id": "f52858dc-18a0-4f55-882f-5de562b0b485",
   "metadata": {},
   "outputs": [],
   "source": [
    "# Optimize conformers"
   ]
  },
  {
   "cell_type": "code",
   "execution_count": null,
   "id": "ca0ed399-27ec-4042-9730-d5c1ce4c6219",
   "metadata": {},
   "outputs": [],
   "source": [
    "# Watch the changes to conformer shape space"
   ]
  },
  {
   "cell_type": "code",
   "execution_count": null,
   "id": "cf525bd8-d0cb-413f-96d8-1b0bf01c12c8",
   "metadata": {},
   "outputs": [],
   "source": []
  },
  {
   "cell_type": "code",
   "execution_count": null,
   "id": "6062a9e2-a627-4b9f-bcf8-a847867170d2",
   "metadata": {},
   "outputs": [],
   "source": []
  },
  {
   "cell_type": "code",
   "execution_count": null,
   "id": "214eee1e-f6d1-48e3-84b9-9398b6c50c1f",
   "metadata": {},
   "outputs": [],
   "source": []
  },
  {
   "cell_type": "code",
   "execution_count": null,
   "id": "48e97542-53d9-4401-a228-cf120fca1daf",
   "metadata": {},
   "outputs": [],
   "source": []
  },
  {
   "cell_type": "code",
   "execution_count": null,
   "id": "04d36d77-b0e3-42ce-b073-bac562faca73",
   "metadata": {},
   "outputs": [],
   "source": []
  },
  {
   "cell_type": "code",
   "execution_count": null,
   "id": "ff57c8eb-c794-4666-973d-b2f24bde6067",
   "metadata": {},
   "outputs": [],
   "source": []
  },
  {
   "cell_type": "code",
   "execution_count": null,
   "id": "dbd8bf22-d2fa-4cc8-93d4-8134294b99c2",
   "metadata": {},
   "outputs": [],
   "source": []
  }
 ],
 "metadata": {
  "language_info": {
   "name": "python"
  }
 },
 "nbformat": 4,
 "nbformat_minor": 5
}
