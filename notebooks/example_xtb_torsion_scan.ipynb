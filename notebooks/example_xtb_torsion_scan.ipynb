{
 "cells": [
  {
   "cell_type": "code",
   "execution_count": null,
   "id": "searching-islam",
   "metadata": {},
   "outputs": [],
   "source": [
    "# Example of pKa"
   ]
  },
  {
   "cell_type": "code",
   "execution_count": null,
   "id": "physical-shuttle",
   "metadata": {},
   "outputs": [],
   "source": [
    "%load_ext autoreload\n",
    "%autoreload 2\n",
    "%matplotlib inline"
   ]
  },
  {
   "cell_type": "code",
   "execution_count": null,
   "id": "jewish-librarian",
   "metadata": {},
   "outputs": [],
   "source": [
    "import logging\n",
    "import sys\n",
    "import copy"
   ]
  },
  {
   "cell_type": "code",
   "execution_count": null,
   "id": "micro-nicholas",
   "metadata": {},
   "outputs": [],
   "source": [
    "import matplotlib as mpl\n",
    "import matplotlib.pyplot as plt"
   ]
  },
  {
   "cell_type": "code",
   "execution_count": null,
   "id": "vertical-italy",
   "metadata": {},
   "outputs": [],
   "source": [
    "import pandas as pd\n",
    "import numpy as np\n",
    "import rdkit\n",
    "from rdkit import Chem\n",
    "from rdkit.Chem.Draw import MolsToGridImage, MolToImage"
   ]
  },
  {
   "cell_type": "code",
   "execution_count": null,
   "id": "independent-usage",
   "metadata": {},
   "outputs": [],
   "source": [
    "try:\n",
    "    import ppqm\n",
    "except ModuleNotFoundError:\n",
    "    import pathlib\n",
    "\n",
    "    cwd = pathlib.Path().resolve().parent\n",
    "    sys.path.append(str(cwd))\n",
    "    import ppqm"
   ]
  },
  {
   "cell_type": "markdown",
   "id": "french-pharmaceutical",
   "metadata": {},
   "source": [
    "## Set logging level"
   ]
  },
  {
   "cell_type": "code",
   "execution_count": null,
   "id": "sixth-spyware",
   "metadata": {},
   "outputs": [],
   "source": [
    "logging.basicConfig(stream=sys.stdout, level=logging.INFO)\n",
    "logging.getLogger(\"ppqm\").setLevel(logging.INFO)\n",
    "logging.getLogger(\"xtb\").setLevel(logging.INFO)\n",
    "show_progress = True"
   ]
  },
  {
   "cell_type": "markdown",
   "id": "enabling-recognition",
   "metadata": {},
   "source": [
    "## Define a molecule you like"
   ]
  },
  {
   "cell_type": "code",
   "execution_count": null,
   "id": "alive-accreditation",
   "metadata": {},
   "outputs": [],
   "source": [
    "smiles = \"CCCCCCO\"  # \n",
    "molobj = Chem.MolFromSmiles(smiles)"
   ]
  },
  {
   "cell_type": "code",
   "execution_count": null,
   "id": "manufactured-airplane",
   "metadata": {},
   "outputs": [],
   "source": [
    "molobj"
   ]
  },
  {
   "cell_type": "markdown",
   "id": "provincial-plumbing",
   "metadata": {},
   "source": [
    "## Get some 3D conformers (RDKit)"
   ]
  },
  {
   "cell_type": "code",
   "execution_count": null,
   "id": "banned-familiar",
   "metadata": {},
   "outputs": [],
   "source": [
    "molobj = ppqm.tasks.generate_conformers(molobj, n_conformers=1)"
   ]
  },
  {
   "cell_type": "code",
   "execution_count": null,
   "id": "confused-amazon",
   "metadata": {},
   "outputs": [],
   "source": [
    "ppqm.jupyter.show_molobj(molobj)"
   ]
  },
  {
   "cell_type": "code",
   "execution_count": null,
   "id": "professional-malpractice",
   "metadata": {},
   "outputs": [],
   "source": [
    "torsion_indices = [1, 2, 3 ,4]"
   ]
  },
  {
   "cell_type": "code",
   "execution_count": null,
   "id": "delayed-glenn",
   "metadata": {},
   "outputs": [],
   "source": [
    "MolToImage(\n",
    "   molobj,\n",
    "   highlightAtoms=torsion_indices,\n",
    "   size=(500,500),\n",
    ")"
   ]
  },
  {
   "cell_type": "code",
   "execution_count": null,
   "id": "dedicated-harrison",
   "metadata": {},
   "outputs": [],
   "source": [
    "conformer = molobj.GetConformer()\n",
    "origin = conformer.GetPositions()"
   ]
  },
  {
   "cell_type": "code",
   "execution_count": null,
   "id": "complimentary-detroit",
   "metadata": {},
   "outputs": [],
   "source": [
    "angle = Chem.rdMolTransforms.GetDihedralDeg(conformer, *indices)\n",
    "angle"
   ]
  },
  {
   "cell_type": "code",
   "execution_count": null,
   "id": "polished-tyler",
   "metadata": {},
   "outputs": [],
   "source": []
  },
  {
   "cell_type": "code",
   "execution_count": null,
   "id": "spread-madagascar",
   "metadata": {},
   "outputs": [],
   "source": [
    "steps = 100\n",
    "delta_angles = np.linspace(0, 360, steps)\n",
    "delta_angles = delta_angles[1:]"
   ]
  },
  {
   "cell_type": "code",
   "execution_count": null,
   "id": "established-catalog",
   "metadata": {},
   "outputs": [],
   "source": []
  },
  {
   "cell_type": "code",
   "execution_count": null,
   "id": "bigger-easter",
   "metadata": {},
   "outputs": [],
   "source": [
    "for step in delta_angles:\n",
    "    \n",
    "    conformer_prime = rdkit.Chem.Conformer(conformer)\n",
    "    \n",
    "    angle_prime = angle + step\n",
    "    \n",
    "    Chem.rdMolTransforms.SetDihedralDeg(conformer_prime, *torsion_indices, angle_prime)\n",
    "    molobj.AddConformer(conformer_prime, assignId=True)\n",
    "    "
   ]
  },
  {
   "cell_type": "code",
   "execution_count": null,
   "id": "powerful-observer",
   "metadata": {},
   "outputs": [],
   "source": [
    "molobj.GetNumConformers()"
   ]
  },
  {
   "cell_type": "code",
   "execution_count": null,
   "id": "common-angola",
   "metadata": {},
   "outputs": [],
   "source": [
    "ppqm.jupyter.show_molobj(molobj, align_conformers=False)"
   ]
  },
  {
   "cell_type": "markdown",
   "id": "conservative-exploration",
   "metadata": {},
   "source": [
    "## Calculate the energy barrier"
   ]
  },
  {
   "cell_type": "code",
   "execution_count": null,
   "id": "satellite-firewall",
   "metadata": {},
   "outputs": [],
   "source": [
    "xtb = ppqm.XtbCalculator(\n",
    "    scr=\"_tmp_directory_\",\n",
    "    n_cores=2,\n",
    "    cmd=\"xtb\",\n",
    "    show_progress=show_progress,\n",
    ")\n",
    "\n",
    "def calculate_energies(molobj):\n",
    "    \n",
    "    xtb_options = {\n",
    "        \"gfn\": 2\n",
    "    }\n",
    "\n",
    "    results = xtb.calculate(molobj, xtb_options)\n",
    "    energies = [result[\"scc_energy\"] for result in results]\n",
    "    \n",
    "    energies = np.array(energies)\n",
    "    energies *= ppqm.units.hartree_to_kcalmol\n",
    "    energies -= np.min(energies)\n",
    "    \n",
    "    return energies"
   ]
  },
  {
   "cell_type": "code",
   "execution_count": null,
   "id": "protected-profession",
   "metadata": {},
   "outputs": [],
   "source": [
    "energies = calculate_energies(molobj)"
   ]
  },
  {
   "cell_type": "markdown",
   "id": "proof-fight",
   "metadata": {},
   "source": [
    "## Show the energy barrier"
   ]
  },
  {
   "cell_type": "code",
   "execution_count": null,
   "id": "paperback-carry",
   "metadata": {},
   "outputs": [],
   "source": [
    "_ = plt.plot([angle] + list(angle+delta_angles), energies)"
   ]
  },
  {
   "cell_type": "code",
   "execution_count": null,
   "id": "equivalent-marketing",
   "metadata": {},
   "outputs": [],
   "source": []
  }
 ],
 "metadata": {
  "language_info": {
   "name": "python"
  }
 },
 "nbformat": 4,
 "nbformat_minor": 5
}
