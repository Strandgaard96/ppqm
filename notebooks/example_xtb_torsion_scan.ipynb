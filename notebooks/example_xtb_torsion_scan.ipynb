{
 "cells": [
  {
   "cell_type": "code",
   "execution_count": null,
   "id": "opposed-combine",
   "metadata": {},
   "outputs": [],
   "source": [
    "# Example of torsion"
   ]
  },
  {
   "cell_type": "code",
   "execution_count": null,
   "id": "previous-amendment",
   "metadata": {},
   "outputs": [],
   "source": [
    "%load_ext autoreload\n",
    "%autoreload 2\n",
    "%matplotlib inline"
   ]
  },
  {
   "cell_type": "code",
   "execution_count": null,
   "id": "requested-scout",
   "metadata": {},
   "outputs": [],
   "source": [
    "import logging\n",
    "import sys\n",
    "import copy"
   ]
  },
  {
   "cell_type": "code",
   "execution_count": null,
   "id": "destroyed-ideal",
   "metadata": {},
   "outputs": [],
   "source": [
    "import matplotlib as mpl\n",
    "import matplotlib.pyplot as plt"
   ]
  },
  {
   "cell_type": "code",
   "execution_count": null,
   "id": "moving-wrestling",
   "metadata": {},
   "outputs": [],
   "source": [
    "import pandas as pd\n",
    "import numpy as np\n",
    "import rdkit\n",
    "from rdkit import Chem\n",
    "from rdkit.Chem.Draw import MolsToGridImage, MolToImage"
   ]
  },
  {
   "cell_type": "code",
   "execution_count": null,
   "id": "increased-industry",
   "metadata": {},
   "outputs": [],
   "source": [
    "try:\n",
    "    import ppqm\n",
    "except ModuleNotFoundError:\n",
    "    import pathlib\n",
    "\n",
    "    cwd = pathlib.Path().resolve().parent\n",
    "    sys.path.append(str(cwd))\n",
    "    import ppqm"
   ]
  },
  {
   "cell_type": "markdown",
   "id": "heated-daughter",
   "metadata": {},
   "source": [
    "## Set logging level"
   ]
  },
  {
   "cell_type": "code",
   "execution_count": null,
   "id": "lyric-religious",
   "metadata": {},
   "outputs": [],
   "source": [
    "logging.basicConfig(stream=sys.stdout, level=logging.INFO)\n",
    "logging.getLogger(\"ppqm\").setLevel(logging.INFO)\n",
    "logging.getLogger(\"xtb\").setLevel(logging.INFO)\n",
    "show_progress = True"
   ]
  },
  {
   "cell_type": "markdown",
   "id": "owned-proportion",
   "metadata": {},
   "source": [
    "## Define a molecule you like"
   ]
  },
  {
   "cell_type": "code",
   "execution_count": null,
   "id": "abstract-bicycle",
   "metadata": {},
   "outputs": [],
   "source": [
    "smiles = \"CCCCCCO\"  # \n",
    "molobj = Chem.MolFromSmiles(smiles)"
   ]
  },
  {
   "cell_type": "code",
   "execution_count": null,
   "id": "twelve-mills",
   "metadata": {},
   "outputs": [],
   "source": [
    "molobj"
   ]
  },
  {
   "cell_type": "markdown",
   "id": "distant-southwest",
   "metadata": {},
   "source": [
    "## Get some 3D conformers (RDKit)"
   ]
  },
  {
   "cell_type": "code",
   "execution_count": null,
   "id": "stuffed-vintage",
   "metadata": {},
   "outputs": [],
   "source": [
    "molobj = ppqm.tasks.generate_conformers(molobj, n_conformers=1)"
   ]
  },
  {
   "cell_type": "code",
   "execution_count": null,
   "id": "shared-jumping",
   "metadata": {},
   "outputs": [],
   "source": [
    "ppqm.jupyter.show_molobj(molobj)"
   ]
  },
  {
   "cell_type": "code",
   "execution_count": null,
   "id": "determined-committee",
   "metadata": {},
   "outputs": [],
   "source": [
    "torsion_indices = [1, 2, 3 ,4]"
   ]
  },
  {
   "cell_type": "code",
   "execution_count": null,
   "id": "conventional-companion",
   "metadata": {},
   "outputs": [],
   "source": [
    "MolToImage(\n",
    "   molobj,\n",
    "   highlightAtoms=torsion_indices,\n",
    "   size=(500,500),\n",
    ")"
   ]
  },
  {
   "cell_type": "code",
   "execution_count": null,
   "id": "colored-malawi",
   "metadata": {},
   "outputs": [],
   "source": [
    "conformer = molobj.GetConformer()\n",
    "origin = conformer.GetPositions()"
   ]
  },
  {
   "cell_type": "code",
   "execution_count": null,
   "id": "ceramic-tournament",
   "metadata": {},
   "outputs": [],
   "source": [
    "angle = Chem.rdMolTransforms.GetDihedralDeg(conformer, *torsion_indices)\n",
    "angle"
   ]
  },
  {
   "cell_type": "code",
   "execution_count": null,
   "id": "talented-guest",
   "metadata": {},
   "outputs": [],
   "source": []
  },
  {
   "cell_type": "code",
   "execution_count": null,
   "id": "earlier-indiana",
   "metadata": {},
   "outputs": [],
   "source": [
    "steps = 100\n",
    "delta_angles = np.linspace(0, 360, steps)\n",
    "delta_angles = delta_angles[1:]"
   ]
  },
  {
   "cell_type": "code",
   "execution_count": null,
   "id": "passive-examination",
   "metadata": {},
   "outputs": [],
   "source": []
  },
  {
   "cell_type": "code",
   "execution_count": null,
   "id": "sweet-fusion",
   "metadata": {},
   "outputs": [],
   "source": [
    "for step in delta_angles:\n",
    "    \n",
    "    conformer_prime = rdkit.Chem.Conformer(conformer)\n",
    "    \n",
    "    angle_prime = angle + step\n",
    "    \n",
    "    Chem.rdMolTransforms.SetDihedralDeg(conformer_prime, *torsion_indices, angle_prime)\n",
    "    molobj.AddConformer(conformer_prime, assignId=True)\n",
    "    "
   ]
  },
  {
   "cell_type": "code",
   "execution_count": null,
   "id": "mounted-arcade",
   "metadata": {},
   "outputs": [],
   "source": [
    "molobj.GetNumConformers()"
   ]
  },
  {
   "cell_type": "code",
   "execution_count": null,
   "id": "faced-provision",
   "metadata": {},
   "outputs": [],
   "source": [
    "ppqm.jupyter.show_molobj(molobj, align_conformers=False)"
   ]
  },
  {
   "cell_type": "markdown",
   "id": "stylish-cambridge",
   "metadata": {},
   "source": [
    "## Calculate the energy barrier"
   ]
  },
  {
   "cell_type": "code",
   "execution_count": null,
   "id": "liable-kentucky",
   "metadata": {},
   "outputs": [],
   "source": [
    "xtb = ppqm.XtbCalculator(\n",
    "    scr=\"_tmp_directory_\",\n",
    "    n_cores=2,\n",
    "    cmd=\"xtb\",\n",
    "    show_progress=show_progress,\n",
    ")\n",
    "\n",
    "def calculate_energies(molobj):\n",
    "    \n",
    "    xtb_options = {\n",
    "        \"gfn\": 2\n",
    "    }\n",
    "\n",
    "    results = xtb.calculate(molobj, xtb_options)\n",
    "    energies = [result[\"scc_energy\"] for result in results]\n",
    "    \n",
    "    energies = np.array(energies)\n",
    "    energies *= ppqm.units.hartree_to_kcalmol\n",
    "    energies -= np.min(energies)\n",
    "    \n",
    "    return energies"
   ]
  },
  {
   "cell_type": "code",
   "execution_count": null,
   "id": "trying-purple",
   "metadata": {},
   "outputs": [],
   "source": [
    "energies = calculate_energies(molobj)"
   ]
  },
  {
   "cell_type": "markdown",
   "id": "collective-bouquet",
   "metadata": {},
   "source": [
    "## Show the energy barrier"
   ]
  },
  {
   "cell_type": "code",
   "execution_count": null,
   "id": "intensive-fourth",
   "metadata": {},
   "outputs": [],
   "source": [
    "_ = plt.plot([angle] + list(angle+delta_angles), energies)"
   ]
  },
  {
   "cell_type": "code",
   "execution_count": null,
   "id": "bacterial-manor",
   "metadata": {},
   "outputs": [],
   "source": []
  }
 ],
 "metadata": {
  "language_info": {
   "name": "python"
  }
 },
 "nbformat": 4,
 "nbformat_minor": 5
}
