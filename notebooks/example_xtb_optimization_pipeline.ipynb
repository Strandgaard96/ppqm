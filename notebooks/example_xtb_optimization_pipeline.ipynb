{
 "cells": [
  {
   "cell_type": "code",
   "execution_count": null,
   "id": "presidential-lemon",
   "metadata": {},
   "outputs": [],
   "source": []
  },
  {
   "cell_type": "code",
   "execution_count": null,
   "id": "suburban-victoria",
   "metadata": {},
   "outputs": [],
   "source": [
    "%load_ext autoreload\n",
    "%autoreload 2\n",
    "%matplotlib inline"
   ]
  },
  {
   "cell_type": "code",
   "execution_count": null,
   "id": "unable-anniversary",
   "metadata": {},
   "outputs": [],
   "source": [
    "import logging\n",
    "import sys"
   ]
  },
  {
   "cell_type": "code",
   "execution_count": null,
   "id": "verbal-river",
   "metadata": {},
   "outputs": [],
   "source": [
    "import pandas as pd\n",
    "from rdkit import Chem\n",
    "from rdkit.Chem.Draw import MolsToGridImage"
   ]
  },
  {
   "cell_type": "code",
   "execution_count": null,
   "id": "infinite-medline",
   "metadata": {},
   "outputs": [],
   "source": [
    "try:\n",
    "    import ppqm\n",
    "except ModuleNotFoundError:\n",
    "    import pathlib\n",
    "\n",
    "    cwd = pathlib.Path().resolve().parent\n",
    "    sys.path.append(str(cwd))\n",
    "    import ppqm"
   ]
  },
  {
   "cell_type": "markdown",
   "id": "comprehensive-triple",
   "metadata": {},
   "source": [
    "## Set logging level"
   ]
  },
  {
   "cell_type": "code",
   "execution_count": null,
   "id": "spatial-shanghai",
   "metadata": {},
   "outputs": [],
   "source": [
    "logging.basicConfig(stream=sys.stdout, level=logging.INFO)\n",
    "logging.getLogger(\"ppqm\").setLevel(logging.INFO)\n",
    "show_progress = True"
   ]
  },
  {
   "cell_type": "markdown",
   "id": "usual-reputation",
   "metadata": {},
   "source": [
    "## Define a molecule you like"
   ]
  },
  {
   "cell_type": "code",
   "execution_count": null,
   "id": "changed-terrace",
   "metadata": {},
   "outputs": [],
   "source": [
    "smiles = \"Cc1cc(NCCO)nc(-c2ccc(Br)cc2)n1\"  # CHEMBL1956589\n",
    "molobj = Chem.MolFromSmiles(smiles)"
   ]
  },
  {
   "cell_type": "code",
   "execution_count": null,
   "id": "consolidated-poetry",
   "metadata": {},
   "outputs": [],
   "source": [
    "molobj"
   ]
  },
  {
   "cell_type": "markdown",
   "id": "photographic-cookbook",
   "metadata": {},
   "source": []
  },
  {
   "cell_type": "code",
   "execution_count": null,
   "id": "stuffed-bundle",
   "metadata": {},
   "outputs": [],
   "source": []
  },
  {
   "cell_type": "code",
   "execution_count": null,
   "id": "promising-assault",
   "metadata": {},
   "outputs": [],
   "source": []
  },
  {
   "cell_type": "code",
   "execution_count": null,
   "id": "quarterly-marks",
   "metadata": {},
   "outputs": [],
   "source": []
  }
 ],
 "metadata": {
  "language_info": {
   "name": "python"
  }
 },
 "nbformat": 4,
 "nbformat_minor": 5
}
