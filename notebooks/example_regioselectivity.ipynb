{
 "cells": [
  {
   "cell_type": "code",
   "execution_count": null,
   "id": "central-store",
   "metadata": {},
   "outputs": [],
   "source": []
  },
  {
   "cell_type": "code",
   "execution_count": null,
   "id": "green-project",
   "metadata": {},
   "outputs": [],
   "source": [
    "%load_ext autoreload\n",
    "%autoreload 2\n",
    "%matplotlib inline"
   ]
  },
  {
   "cell_type": "code",
   "execution_count": null,
   "id": "composite-gauge",
   "metadata": {},
   "outputs": [],
   "source": [
    "import logging\n",
    "import sys"
   ]
  },
  {
   "cell_type": "code",
   "execution_count": null,
   "id": "developed-infrastructure",
   "metadata": {},
   "outputs": [],
   "source": [
    "from tqdm import tqdm\n",
    "tqdm.pandas()  # Show progress bars on pandas functions"
   ]
  },
  {
   "cell_type": "code",
   "execution_count": null,
   "id": "together-currency",
   "metadata": {},
   "outputs": [],
   "source": [
    "import numpy as np\n",
    "import pandas as pd\n",
    "from IPython.display import SVG\n",
    "from rdkit import Chem\n",
    "from rdkit.Chem import AllChem\n",
    "from rdkit.Chem.Draw import MolsToGridImage, MolToImage, rdMolDraw2D"
   ]
  },
  {
   "cell_type": "code",
   "execution_count": null,
   "id": "naval-advisory",
   "metadata": {},
   "outputs": [],
   "source": [
    "try:\n",
    "    import ppqm\n",
    "except ModuleNotFoundError:\n",
    "    import pathlib\n",
    "\n",
    "    cwd = pathlib.Path().resolve().parent\n",
    "    sys.path.append(str(cwd))\n",
    "    import ppqm"
   ]
  },
  {
   "cell_type": "code",
   "execution_count": null,
   "id": "european-feeling",
   "metadata": {},
   "outputs": [],
   "source": [
    "logging.basicConfig(stream=sys.stdout, level=logging.INFO)\n",
    "logging.getLogger(\"ppqm\").setLevel(logging.INFO)\n",
    "logging.getLogger(\"xtb\").setLevel(logging.INFO)\n",
    "show_progress = True"
   ]
  },
  {
   "cell_type": "markdown",
   "id": "fancy-tuning",
   "metadata": {},
   "source": [
    "# Example: Fast and accurate prediction of the regioselectivity of electrophilic aromatic substitution reactions\n",
    "\n",
    "RegioSQM method protonates all aromatic C–H carbon atoms and identifies those with the lowest free energies in **solvent** using the semiempirical quantum chemical **method** as the most nucleophilic center.\n",
    "\n",
    "As per the Regio2020 version, in this example we are using\n",
    "**xTB GFN2** in **Methanol**\n",
    "\n",
    "Rerference\n",
    "- https://doi.org/10.1039/C7SC04156J\n",
    "- https://doi.org/10.1186/s13321-021-00490-7\n"
   ]
  },
  {
   "cell_type": "code",
   "execution_count": null,
   "id": "desperate-working",
   "metadata": {},
   "outputs": [],
   "source": [
    "reaction1 = AllChem.ReactionFromSmarts(\"[C;R;H1:1]=[C,N;R;H1:2]>>[CH2:1][*H+:2]\")\n",
    "reaction2 = AllChem.ReactionFromSmarts(\"[C;R;H1:1]=[C,N;R;H0:2]>>[CH2:1][*+;H0:2]\")"
   ]
  },
  {
   "cell_type": "code",
   "execution_count": null,
   "id": "prospective-eligibility",
   "metadata": {},
   "outputs": [],
   "source": [
    "reaction1"
   ]
  },
  {
   "cell_type": "code",
   "execution_count": null,
   "id": "incomplete-powder",
   "metadata": {},
   "outputs": [],
   "source": [
    "reaction2"
   ]
  },
  {
   "cell_type": "markdown",
   "id": "bottom-spouse",
   "metadata": {},
   "source": [
    "## Define a molecule you like"
   ]
  },
  {
   "cell_type": "code",
   "execution_count": null,
   "id": "steady-mystery",
   "metadata": {},
   "outputs": [],
   "source": [
    "smiles = \"Cc1cc(NCCO)nc(-c2ccc(Br)cc2)n1\"  # CHEMBL1956589\n",
    "molobj = Chem.MolFromSmiles(smiles)"
   ]
  },
  {
   "cell_type": "code",
   "execution_count": null,
   "id": "comparative-suggestion",
   "metadata": {},
   "outputs": [],
   "source": [
    "molobj"
   ]
  },
  {
   "cell_type": "code",
   "execution_count": null,
   "id": "collectible-penetration",
   "metadata": {},
   "outputs": [],
   "source": [
    "Chem.Kekulize(molobj, clearAromaticFlags=True)"
   ]
  },
  {
   "cell_type": "markdown",
   "id": "necessary-copying",
   "metadata": {
    "lines_to_next_cell": 2
   },
   "source": [
    "## Protonate all aromatic carbons\n",
    "\n",
    "\n"
   ]
  },
  {
   "cell_type": "code",
   "execution_count": null,
   "id": "compact-reverse",
   "metadata": {},
   "outputs": [],
   "source": [
    "def get_target_atoms(molobj, target):\n",
    "    \"\"\"Find target atom indices from SMART\"\"\"\n",
    "    atoms = molobj.GetSubstructMatches(target)\n",
    "    # convert tuple of tuple to one-dimensional list\n",
    "    atoms = [element for tupl in atoms for element in tupl]\n",
    "    return atoms"
   ]
  },
  {
   "cell_type": "code",
   "execution_count": null,
   "id": "spiritual-midwest",
   "metadata": {},
   "outputs": [],
   "source": [
    "# Code by Jan H. Jensen github.com/jensengroup/regiosqm\n",
    "\n",
    "molobjs = []\n",
    "target_atoms = []\n",
    "\n",
    "smarts_1 = Chem.MolFromSmarts(\"[C;R;H1:1]=[C,N;R;H1:2]\")\n",
    "smarts_2 = Chem.MolFromSmarts(\"[C;R;H1:1]=[C,N;R;H0:2]\")\n",
    "atoms_1 = get_target_atoms(molobj, smarts_1)\n",
    "atoms_2 = get_target_atoms(molobj, smarts_2)\n",
    "\n",
    "i = 0\n",
    "products_1 = reaction1.RunReactants((molobj,))\n",
    "for x in products_1:\n",
    "\n",
    "    molobj_prime = x[0]\n",
    "    smiles = Chem.MolToSmiles(molobj_prime)\n",
    "    smiles = smiles.replace(\"NH2+\", \"N+\")\n",
    "    molobj_prime = Chem.MolFromSmiles(smiles)\n",
    "\n",
    "    molobjs.append(molobj_prime)\n",
    "    target_atoms.append(atoms_1[i])\n",
    "\n",
    "    i += 1\n",
    "\n",
    "isav = i\n",
    "\n",
    "products_2 = reaction2.RunReactants((molobj,))\n",
    "for x in products_2:\n",
    "\n",
    "    molobj_prime = x[0]\n",
    "    smiles = Chem.MolToSmiles(molobj_prime)\n",
    "    smiles = smiles.replace(\"NH2+\", \"N+\")\n",
    "    molobj_prime = Chem.MolFromSmiles(smiles)\n",
    "\n",
    "    molobjs.append(molobj_prime)\n",
    "    target_atoms.append(atoms_2[2 * (i - isav) - 2])\n",
    "\n",
    "    i += 1"
   ]
  },
  {
   "cell_type": "code",
   "execution_count": null,
   "id": "competent-import",
   "metadata": {},
   "outputs": [],
   "source": [
    "MolsToGridImage(\n",
    "    molobjs,\n",
    "    molsPerRow=3,\n",
    "    subImgSize=(250, 250),\n",
    "    useSVG=True,\n",
    ")"
   ]
  },
  {
   "cell_type": "code",
   "execution_count": null,
   "id": "amber-cleanup",
   "metadata": {},
   "outputs": [],
   "source": [
    "[Chem.MolToSmiles(m) for m in molobjs]"
   ]
  },
  {
   "cell_type": "markdown",
   "id": "silver-regression",
   "metadata": {},
   "source": [
    "## Now let's find out which are most stable using quantum chemistry"
   ]
  },
  {
   "cell_type": "code",
   "execution_count": null,
   "id": "adopted-collector",
   "metadata": {},
   "outputs": [],
   "source": [
    "df = pd.DataFrame(molobjs, columns=[\"molobj\"])\n",
    "df[\"atom_index\"] = target_atoms"
   ]
  },
  {
   "cell_type": "code",
   "execution_count": null,
   "id": "pursuant-return",
   "metadata": {},
   "outputs": [],
   "source": [
    "df"
   ]
  },
  {
   "cell_type": "code",
   "execution_count": null,
   "id": "second-advice",
   "metadata": {},
   "outputs": [],
   "source": [
    "xtb = ppqm.xtb.XtbCalculator(\n",
    "    scr=\"_tmp_directory_\", n_cores=2, cmd=\"xtb\", show_progress=False\n",
    ")"
   ]
  },
  {
   "cell_type": "markdown",
   "id": "fabulous-national",
   "metadata": {
    "lines_to_next_cell": 2
   },
   "source": [
    "Let's define a function that we can map onto a pandas DataFrame on each row. We want to calculate the energy for each site which requires some conformer expansion. We are only interested in the lowest energy per conformer."
   ]
  },
  {
   "cell_type": "code",
   "execution_count": null,
   "id": "atomic-constraint",
   "metadata": {},
   "outputs": [],
   "source": [
    "def calculate_energy(molobj):\n",
    "    \"\"\"\n",
    "\n",
    "    For each protonated molecule RDkit Mol obj\n",
    "\n",
    "    - Generate conformers (max 20 conformers\n",
    "    - Minimize all conformers\n",
    "    - Get the energy for each conformer\n",
    "    - Return the lowest energy\n",
    "\n",
    "    \"\"\"\n",
    "\n",
    "    xtb_options = {\n",
    "        \"gfn\": 2,\n",
    "        \"alpb\": \"Methanol\",\n",
    "        \"opt\": None,\n",
    "    }\n",
    "\n",
    "    molobj = ppqm.chembridge.copy_molobj(molobj)\n",
    "    molobj = ppqm.tasks.generate_conformers(molobj, max_conformers=20)\n",
    "\n",
    "    results = xtb.calculate(molobj, xtb_options)\n",
    "\n",
    "    conformer_energies = [result[\"scc_energy\"] for result in results]\n",
    "    min_energy = np.min(conformer_energies)\n",
    "    min_energy *= ppqm.units.hartree_to_kcalmol\n",
    "\n",
    "    return min_energy"
   ]
  },
  {
   "cell_type": "code",
   "execution_count": null,
   "id": "immune-college",
   "metadata": {},
   "outputs": [],
   "source": [
    "# example: reference_energy = calculate_energy(molobj)"
   ]
  },
  {
   "cell_type": "code",
   "execution_count": null,
   "id": "animated-roots",
   "metadata": {},
   "outputs": [],
   "source": [
    "%%time\n",
    "df[\"energy\"] = df[\"molobj\"].progress_apply(calculate_energy)"
   ]
  },
  {
   "cell_type": "code",
   "execution_count": null,
   "id": "liquid-standing",
   "metadata": {},
   "outputs": [],
   "source": [
    "df[\"rel_energy\"] = df[\"energy\"].values - np.min(df[\"energy\"].values)"
   ]
  },
  {
   "cell_type": "code",
   "execution_count": null,
   "id": "capable-opportunity",
   "metadata": {},
   "outputs": [],
   "source": [
    "df"
   ]
  },
  {
   "cell_type": "code",
   "execution_count": null,
   "id": "exterior-exhaust",
   "metadata": {},
   "outputs": [],
   "source": [
    "cutoff1 = 1.0  # kcal/mol\n",
    "cutoff2 = 3.0  # kcal/mol\n",
    "\n",
    "green = df[df[\"rel_energy\"] < cutoff1][\"atom_index\"].values\n",
    "green = [int(x) for x in green]  # rdkit int type\n",
    "red = df[df[\"rel_energy\"] < cutoff2][\"atom_index\"].values\n",
    "red = [int(x) for x in red if x not in green]\n",
    "\n",
    "highlights = green + red\n",
    "\n",
    "colormap = dict()\n",
    "colormap.update({key: [(0.0, 1.0, 0.0)] for key in green})\n",
    "colormap.update({key: [(1.0, 0.0, 0.0)] for key in red})"
   ]
  },
  {
   "cell_type": "code",
   "execution_count": null,
   "id": "lovely-function",
   "metadata": {},
   "outputs": [],
   "source": [
    "# should be working, but does not respect colors\n",
    "# MolToImage(\n",
    "#    molobj,\n",
    "#    highlightAtoms=highlights,\n",
    "#    highlightMap=colormap,\n",
    "#    size=(500,500),\n",
    "# )"
   ]
  },
  {
   "cell_type": "code",
   "execution_count": null,
   "id": "mechanical-thermal",
   "metadata": {},
   "outputs": [],
   "source": [
    "# http://rdkit.blogspot.com/2020/04/new-drawing-options-in-202003-release.html\n",
    "d2d = rdMolDraw2D.MolDraw2DSVG(500, 500)\n",
    "d2d.DrawMoleculeWithHighlights(\n",
    "    molobj, \"Regioselective site(s)\", dict(colormap), {}, {}, {}\n",
    ")\n",
    "d2d.FinishDrawing()\n",
    "SVG(d2d.GetDrawingText())"
   ]
  },
  {
   "cell_type": "code",
   "execution_count": null,
   "id": "charged-bearing",
   "metadata": {},
   "outputs": [],
   "source": []
  }
 ],
 "metadata": {
  "language_info": {
   "name": "python"
  }
 },
 "nbformat": 4,
 "nbformat_minor": 5
}
